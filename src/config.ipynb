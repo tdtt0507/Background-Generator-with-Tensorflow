{
 "cells": [
  {
   "cell_type": "code",
   "execution_count": 1,
   "metadata": {},
   "outputs": [
    {
     "data": {
      "text/plain": [
       "0"
      ]
     },
     "execution_count": 1,
     "metadata": {},
     "output_type": "execute_result"
    }
   ],
   "source": [
    "import tensorflow as tf\n",
    "import os\n",
    "\n",
    "train_dir = os.path.join('..','data','image_data','train_data') # Train dataset directory\n",
    "dev_dir   = os.path.join('..','data','image_data','dev_data')  # validation dataset directory\n",
    "test_dir  = os.path.join('..','data','image_data','test_data')\n",
    "\n",
    "processed_dir = os.path.join('..','data','processed_data','processed_default')      # processed data \n",
    "\n",
    "processed_train_dir = os.path.join(processed_dir, )\n",
    "target = \"yongho_BG_with_attention\"\n",
    "target_dir = os.path.join('..','data','research_data',target)\n",
    "model_ckpt_dir = os.path.join('..','data','research_data',target,'model_ckpt')\n",
    "train_log_dir = os.path.join('..','data','research_data',target,'train_log')\n",
    "result_dir = os.path.join('..','data','research_data',target, 'result')\n",
    "\n",
    "os.makedirs(processed_dir) if not os.path.exists(processed_dir) else 0\n",
    "os.makedirs(target_dir) if not os.path.exists(target_dir) else 0\n",
    "os.makedirs(model_ckpt_dir) if not os.path.exists(model_ckpt_dir) else 0\n",
    "os.makedirs(train_log_dir) if not os.path.exists(train_log_dir) else 0\n",
    "os.makedirs(result_dir) if not os.path.exists(result_dir) else 0\n"
   ]
  },
  {
   "cell_type": "code",
   "execution_count": 2,
   "metadata": {},
   "outputs": [],
   "source": [
    "train_record_file = os.path.join(processed_dir,'train.tfrecord')\n",
    "dev_record_file = os.path.join(processed_dir,'dev.tfrecord')\n",
    "test_record_file = os.path.join(processed_dir,'test.tfrecord')"
   ]
  },
  {
   "cell_type": "code",
   "execution_count": 3,
   "metadata": {},
   "outputs": [],
   "source": [
    "flags = tf.flags\n",
    "\n",
    "# # ============================================\n",
    "flags.DEFINE_string(\"mode\",\"train\",\"train / prepro / test\")\n",
    "# # ============================================\n",
    "\n",
    "flags.DEFINE_string(\"train_dir\", train_dir,\"\") # Training file directory\n",
    "flags.DEFINE_string(\"dev_dir\", dev_dir,\"\") # Validation datset directory\n",
    "flags.DEFINE_string(\"test_dir\", test_dir,\"\") # Test dataset directory\n",
    "flags.DEFINE_string(\"processed_dir\",processed_dir,\"\") # processed dataset directory"
   ]
  },
  {
   "cell_type": "code",
   "execution_count": 4,
   "metadata": {},
   "outputs": [],
   "source": [
    "flags.DEFINE_string(\"target_dir\",target_dir,\"\")\n",
    "flags.DEFINE_string(\"model_ckpt_dir\",model_ckpt_dir,\"\")\n",
    "flags.DEFINE_string(\"train_log_dir\",train_log_dir,\"\")\n",
    "flags.DEFINE_string(\"result_dir\",result_dir,\"\")\n",
    "\n",
    "flags.DEFINE_string(\"train_record_file\", train_record_file, \"\")\n",
    "flags.DEFINE_string(\"dev_record_file\", dev_record_file, \"\")\n",
    "flags.DEFINE_string(\"test_record_file\", test_record_file, \"\")\n",
    "\n",
    "flags.DEFINE_integer(\"capacity\", 15000, \"Loaded datset to ram\")\n",
    "flags.DEFINE_integer(\"num_threads\", 4, \"Number of thread for input pipeline\")\n",
    "flags.DEFINE_boolean(\"use_cudnn\",False, \"Wheater to use GPU or CPU\")\n",
    "\n",
    "flags.DEFINE_integer(\"batch_size\", 64, \"Batch size\")\n",
    "flags.DEFINE_integer(\"epoch\", 40, \"Number of Epoch\")\n",
    "flags.DEFINE_integer(\"check_point\",1000,\"Checkpoint per step\")\n",
    "flags.DEFINE_float(\"init_lr\", 0.5, \"Initial Learning rate for adadelta\")\n",
    "flags.DEFINE_float(\"keep_prob\", 0.7,\"Dropout rate\")\n",
    "flags.DEFINE_integer(\"patience\", 3, \"Patience for lr decay\")\n"
   ]
  },
  {
   "cell_type": "code",
   "execution_count": 5,
   "metadata": {},
   "outputs": [
    {
     "ename": "UnrecognizedFlagError",
     "evalue": "Unknown command line flag 'f'",
     "output_type": "error",
     "traceback": [
      "\u001b[0;31m--------------------------------------------------------------\u001b[0m",
      "\u001b[0;31mUnrecognizedFlagError\u001b[0m        Traceback (most recent call last)",
      "\u001b[0;32m<ipython-input-5-f0b22729ac61>\u001b[0m in \u001b[0;36m<module>\u001b[0;34m()\u001b[0m\n\u001b[1;32m     13\u001b[0m \u001b[0;34m\u001b[0m\u001b[0m\n\u001b[1;32m     14\u001b[0m \u001b[0;32mif\u001b[0m \u001b[0m__name__\u001b[0m \u001b[0;34m==\u001b[0m \u001b[0;34m'__main__'\u001b[0m\u001b[0;34m:\u001b[0m\u001b[0;34m\u001b[0m\u001b[0m\n\u001b[0;32m---> 15\u001b[0;31m     \u001b[0mmain\u001b[0m\u001b[0;34m(\u001b[0m\u001b[0;34m)\u001b[0m\u001b[0;34m\u001b[0m\u001b[0m\n\u001b[0m",
      "\u001b[0;32m<ipython-input-5-f0b22729ac61>\u001b[0m in \u001b[0;36mmain\u001b[0;34m()\u001b[0m\n\u001b[1;32m      1\u001b[0m \u001b[0;32mdef\u001b[0m \u001b[0mmain\u001b[0m\u001b[0;34m(\u001b[0m\u001b[0;34m)\u001b[0m\u001b[0;34m:\u001b[0m\u001b[0;34m\u001b[0m\u001b[0m\n\u001b[1;32m      2\u001b[0m     \u001b[0mconfig\u001b[0m \u001b[0;34m=\u001b[0m \u001b[0mflags\u001b[0m\u001b[0;34m.\u001b[0m\u001b[0mFLAGS\u001b[0m\u001b[0;34m\u001b[0m\u001b[0m\n\u001b[0;32m----> 3\u001b[0;31m     \u001b[0;32mif\u001b[0m \u001b[0mconfig\u001b[0m\u001b[0;34m.\u001b[0m\u001b[0mmode\u001b[0m \u001b[0;34m==\u001b[0m \u001b[0;34m'prepro'\u001b[0m\u001b[0;34m:\u001b[0m\u001b[0;34m\u001b[0m\u001b[0m\n\u001b[0m\u001b[1;32m      4\u001b[0m         \u001b[0mprepro\u001b[0m\u001b[0;34m(\u001b[0m\u001b[0mconfig\u001b[0m\u001b[0;34m)\u001b[0m\u001b[0;34m\u001b[0m\u001b[0m\n\u001b[1;32m      5\u001b[0m     \u001b[0;32melif\u001b[0m \u001b[0mconfig\u001b[0m\u001b[0;34m.\u001b[0m\u001b[0mmode\u001b[0m \u001b[0;34m==\u001b[0m \u001b[0;34m'train'\u001b[0m\u001b[0;34m:\u001b[0m\u001b[0;34m\u001b[0m\u001b[0m\n",
      "\u001b[0;32m~/py36/lib/python3.5/site-packages/tensorflow/python/platform/flags.py\u001b[0m in \u001b[0;36m__getattr__\u001b[0;34m(self, name)\u001b[0m\n\u001b[1;32m     82\u001b[0m     \u001b[0;31m# a flag.\u001b[0m\u001b[0;34m\u001b[0m\u001b[0;34m\u001b[0m\u001b[0m\n\u001b[1;32m     83\u001b[0m     \u001b[0;32mif\u001b[0m \u001b[0;32mnot\u001b[0m \u001b[0mwrapped\u001b[0m\u001b[0;34m.\u001b[0m\u001b[0mis_parsed\u001b[0m\u001b[0;34m(\u001b[0m\u001b[0;34m)\u001b[0m\u001b[0;34m:\u001b[0m\u001b[0;34m\u001b[0m\u001b[0m\n\u001b[0;32m---> 84\u001b[0;31m       \u001b[0mwrapped\u001b[0m\u001b[0;34m(\u001b[0m\u001b[0m_sys\u001b[0m\u001b[0;34m.\u001b[0m\u001b[0margv\u001b[0m\u001b[0;34m)\u001b[0m\u001b[0;34m\u001b[0m\u001b[0m\n\u001b[0m\u001b[1;32m     85\u001b[0m     \u001b[0;32mreturn\u001b[0m \u001b[0mwrapped\u001b[0m\u001b[0;34m.\u001b[0m\u001b[0m__getattr__\u001b[0m\u001b[0;34m(\u001b[0m\u001b[0mname\u001b[0m\u001b[0;34m)\u001b[0m\u001b[0;34m\u001b[0m\u001b[0m\n\u001b[1;32m     86\u001b[0m \u001b[0;34m\u001b[0m\u001b[0m\n",
      "\u001b[0;32m~/py36/lib/python3.5/site-packages/absl/flags/_flagvalues.py\u001b[0m in \u001b[0;36m__call__\u001b[0;34m(self, argv, known_only)\u001b[0m\n\u001b[1;32m    628\u001b[0m       \u001b[0msuggestions\u001b[0m \u001b[0;34m=\u001b[0m \u001b[0m_helpers\u001b[0m\u001b[0;34m.\u001b[0m\u001b[0mget_flag_suggestions\u001b[0m\u001b[0;34m(\u001b[0m\u001b[0mname\u001b[0m\u001b[0;34m,\u001b[0m \u001b[0mlist\u001b[0m\u001b[0;34m(\u001b[0m\u001b[0mself\u001b[0m\u001b[0;34m)\u001b[0m\u001b[0;34m)\u001b[0m\u001b[0;34m\u001b[0m\u001b[0m\n\u001b[1;32m    629\u001b[0m       raise _exceptions.UnrecognizedFlagError(\n\u001b[0;32m--> 630\u001b[0;31m           name, value, suggestions=suggestions)\n\u001b[0m\u001b[1;32m    631\u001b[0m \u001b[0;34m\u001b[0m\u001b[0m\n\u001b[1;32m    632\u001b[0m     \u001b[0mself\u001b[0m\u001b[0;34m.\u001b[0m\u001b[0mmark_as_parsed\u001b[0m\u001b[0;34m(\u001b[0m\u001b[0;34m)\u001b[0m\u001b[0;34m\u001b[0m\u001b[0m\n",
      "\u001b[0;31mUnrecognizedFlagError\u001b[0m: Unknown command line flag 'f'"
     ]
    }
   ],
   "source": [
    "def main():\n",
    "    config = flags.FLAGS\n",
    "    if config.mode == 'prepro':\n",
    "        prepro(config)\n",
    "    elif config.mode == 'train':\n",
    "        train(config)\n",
    "    elif config.mode == 'test':\n",
    "        test(config)\n",
    "    else:\n",
    "        print('Unknown mode')\n",
    "        print('Select , prepro / train / test ')\n",
    "        exit(0)\n",
    "        \n",
    "if __name__ == '__main__':\n",
    "    main()"
   ]
  },
  {
   "cell_type": "code",
   "execution_count": null,
   "metadata": {},
   "outputs": [],
   "source": []
  }
 ],
 "metadata": {
  "kernelspec": {
   "display_name": "py36",
   "language": "python",
   "name": "py36"
  },
  "language_info": {
   "codemirror_mode": {
    "name": "ipython",
    "version": 3
   },
   "file_extension": ".py",
   "mimetype": "text/x-python",
   "name": "python",
   "nbconvert_exporter": "python",
   "pygments_lexer": "ipython3",
   "version": "3.5.2"
  }
 },
 "nbformat": 4,
 "nbformat_minor": 2
}
